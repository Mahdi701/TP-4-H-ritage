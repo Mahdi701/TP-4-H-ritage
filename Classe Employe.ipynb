{
 "cells": [
  {
   "cell_type": "code",
   "execution_count": 1,
   "metadata": {},
   "outputs": [
    {
     "name": "stdout",
     "output_type": "stream",
     "text": [
      "Affichage de l'ingénieur:\n",
      "Nom: hamaidi assim, ID: 1, Point Indiciaire: 500\n",
      "Salaire: 2000, Statut: Ingénieur stagiaire\n",
      "Affichage du technicien:\n",
      "Nom: Arigue khaled, ID: 2, Point Indiciaire: 500\n",
      "Salaire: 250000.0, Statut: Technicien\n"
     ]
    }
   ],
   "source": [
    "class Employe:\n",
    "    def __init__(self, nom, identifiant, pin=500):\n",
    "        self.nom = nom\n",
    "        self.ID = identifiant\n",
    "        self.Pin = pin\n",
    "\n",
    "    def calcul_prime(self, a):\n",
    "        if a:\n",
    "            return self.Pin * 2\n",
    "        else:\n",
    "            return self.Pin * 0.5\n",
    "\n",
    "    def salaire(self, prime):\n",
    "        return self.Pin * prime\n",
    "\n",
    "    def affiche(self, a):\n",
    "        prime = self.calcul_prime(a)\n",
    "        salaire_calcul = self.salaire(prime)\n",
    "        print(f\"Nom: {self.nom}, ID: {self.ID}, Point Indiciaire: {self.Pin}\")\n",
    "        print(f\"Salaire: {salaire_calcul}, Statut: Employé\")\n",
    "\n",
    "\n",
    "\n",
    "\n",
    "class Ingenieur(Employe):\n",
    "    def __init__(self, nom, identifiant, etat, pin=500):\n",
    "        Employe.__init__(self,nom, identifiant, pin)\n",
    "        self.Etat = etat\n",
    "\n",
    "    def salaire(self, prime):\n",
    "        if self.Etat == \"stagiaire\":\n",
    "            return self.Pin * 4 \n",
    "        else:\n",
    "            return self.Pin * 6 \n",
    "\n",
    "    def affiche(self, a):\n",
    "        prime = self.calcul_prime(a)\n",
    "        salaire_calcul = self.salaire(prime)\n",
    "        print(f\"Nom: {self.nom}, ID: {self.ID}, Point Indiciaire: {self.Pin}\")\n",
    "        print(f\"Salaire: {salaire_calcul}, Statut: Ingénieur {self.Etat}\")\n",
    "\n",
    "\n",
    "class Technicien(Employe):\n",
    "    def salaire(self, prime):\n",
    "        return self.Pin * 2 * prime\n",
    "\n",
    "    def affiche(self, a):\n",
    "        prime = self.calcul_prime(a)\n",
    "        salaire_calcul = self.salaire(prime)\n",
    "        print(f\"Nom: {self.nom}, ID: {self.ID}, Point Indiciaire: {self.Pin}\")\n",
    "        print(f\"Salaire: {salaire_calcul}, Statut: Technicien\")\n",
    "\n",
    "\n",
    "ingenieur1 = Ingenieur(\"hamaidi assim\", 1, \"stagiaire\")\n",
    "technicien1 = Technicien(\"Arigue khaled\", 2)\n",
    "\n",
    "print(\"Affichage de l'ingénieur:\")\n",
    "ingenieur1.affiche(True)\n",
    "print(\"Affichage du technicien:\")\n",
    "technicien1.affiche(False)\n"
   ]
  },
  {
   "cell_type": "code",
   "execution_count": null,
   "metadata": {},
   "outputs": [],
   "source": []
  }
 ],
 "metadata": {
  "kernelspec": {
   "display_name": "Python 3",
   "language": "python",
   "name": "python3"
  },
  "language_info": {
   "codemirror_mode": {
    "name": "ipython",
    "version": 3
   },
   "file_extension": ".py",
   "mimetype": "text/x-python",
   "name": "python",
   "nbconvert_exporter": "python",
   "pygments_lexer": "ipython3",
   "version": "3.7.0"
  }
 },
 "nbformat": 4,
 "nbformat_minor": 2
}
